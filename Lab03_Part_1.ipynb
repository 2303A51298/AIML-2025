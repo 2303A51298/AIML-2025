{
  "nbformat": 4,
  "nbformat_minor": 0,
  "metadata": {
    "colab": {
      "private_outputs": true,
      "provenance": [],
      "authorship_tag": "ABX9TyMHeMn4i3jox7LIWfLONx9e",
      "include_colab_link": true
    },
    "kernelspec": {
      "name": "python3",
      "display_name": "Python 3"
    },
    "language_info": {
      "name": "python"
    }
  },
  "cells": [
    {
      "cell_type": "markdown",
      "metadata": {
        "id": "view-in-github",
        "colab_type": "text"
      },
      "source": [
        "<a href=\"https://colab.research.google.com/github/2303A51298/AIML-2025/blob/main/Lab03_Part_1.ipynb\" target=\"_parent\"><img src=\"https://colab.research.google.com/assets/colab-badge.svg\" alt=\"Open In Colab\"/></a>"
      ]
    },
    {
      "cell_type": "code",
      "source": [
        "def play_game(game, strategies: dict , verbose=False):\n",
        "\n",
        "  state = game.initial\n",
        "  while not game.is_terminal(state):\n",
        "    player = state.to_move\n",
        "    move = strategies[player](game, state)\n",
        "    state = game.result(state, move)\n",
        "    if verbose:\n",
        "      print('Player', player , 'move:', move)\n",
        "      print(state)\n",
        "  return state"
      ],
      "metadata": {
        "id": "HH4TjyZSIY_F"
      },
      "execution_count": null,
      "outputs": []
    },
    {
      "cell_type": "code",
      "source": [
        "class Game:\n",
        "\n",
        "  def actions(self, state):\n",
        "##Return a collection of the allowable moves from this state .\"\"\"\n",
        "    raise NotImplementedError\n",
        "\n",
        "  def result(self, state , move):\n",
        "#\"\"\"Return the state that results from making a move from a state .\"\"\"\n",
        "    raise NotImplementedError\n",
        "\n",
        "  def is_terminal(self, state):\n",
        "#\"\"\"Return True i f this is a final state for the game.\"\"\"\n",
        "    return not self.actions(state)\n",
        "\n",
        "  def utility(self, state , player):\n",
        "#\"\"\"Return the value of this final state to player.\"\"\"\n",
        "    raise NotImplementedError"
      ],
      "metadata": {
        "id": "umWJe2PtIaxl"
      },
      "execution_count": null,
      "outputs": []
    }
  ]
}